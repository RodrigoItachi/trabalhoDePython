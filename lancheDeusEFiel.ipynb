{
  "nbformat": 4,
  "nbformat_minor": 0,
  "metadata": {
    "colab": {
      "name": "lancheDeusEFiel.ipynb",
      "provenance": [],
      "collapsed_sections": [],
      "include_colab_link": true
    },
    "kernelspec": {
      "name": "python3",
      "display_name": "Python 3"
    },
    "language_info": {
      "name": "python"
    }
  },
  "cells": [
    {
      "cell_type": "markdown",
      "metadata": {
        "id": "view-in-github",
        "colab_type": "text"
      },
      "source": [
        "<a href=\"https://colab.research.google.com/github/RodrigoItachi/trabalhoDePython/blob/master/lancheDeusEFiel.ipynb\" target=\"_parent\"><img src=\"https://colab.research.google.com/assets/colab-badge.svg\" alt=\"Open In Colab\"/></a>"
      ]
    },
    {
      "cell_type": "code",
      "source": [
        "valorFinal = 0.0 \n",
        "valorPratoExpre = 0.0\n",
        "valorLanche = 0.0\n",
        "valorSuco = 0.0\n",
        "valorVit = 0.0\n",
        "valorFrit = 0.0\n",
        "quantidadeItens = 0\n",
        "print(\" --------------------- Lanche Deus É Fiel --------------------- \")\n",
        "print(\" COD                Produto                 Preço\")\n",
        "print(\" -------------------------------------------------------------- \")\n",
        "print(\" Pratos Expressos: \")\n",
        "print(\" PECS001            Carne de Sol            R$ 20.00\")\n",
        "print(\" PELA002            Lasanha                 R$ 20.00\")\n",
        "print(\"\")\n",
        "print(\" Lanches: \")\n",
        "print(\" LAXS011            X-Salada                R$ 10.00\")\n",
        "print(\" LAXT012            X-Tudo                  R$ 16.00\")\n",
        "print(\"\")\n",
        "print(\" Sucos: \")\n",
        "print(\" SUMA021            Maracujá/500ml          R$ 8.00\")\n",
        "print(\" SUGO023            Goiaba/500ml            R$ 7.00\")\n",
        "print(\"\")\n",
        "print(\" Vitaminadas: \")\n",
        "print(\" VIBA031            Banana                  R$  6.00\")\n",
        "print(\" VIAB032            Abacate                 R$ 10.00\")\n",
        "print(\"\")\n",
        "print(\" Fritas: \")\n",
        "print(\" FRBF041            Batata Frita G          R$ 15.00\")\n",
        "print(\" FRMF042            Macaxeira Frita         R$ 17.00\")\n",
        "print(\" -------------------------------------------------------------- \")\n",
        "condicao = input(\" Faça seu pedido, S ou N: \").upper()\n",
        "print(\" -------------------------------------------------------------- \")\n",
        "if condicao == 'S':\n",
        "  while condicao != 'N':\n",
        "    codigo = input(\" Digite o código do produto: \")\n",
        "\n",
        "    if codigo == 'PECS001':\n",
        "      quantidadeItens = int(input(\" Digite a quantidade de produtos: \"))\n",
        "      valorPratoExpre = valorPratoExpre + (quantidadeItens * 20.00)\n",
        "    elif codigo == 'PELA002':\n",
        "      quantidadeItens = int(input(\" Digite a quantidade de produtos: \"))\n",
        "      valorPratoExpre = valorPratoExpre + (quantidadeItens * 20.00)\n",
        "    elif codigo == 'LAXS011':\n",
        "      quantidadeItens = int(input(\" Digite a quantidade de produtos: \"))\n",
        "      valorLanche = valorLanche + (quantidadeItens * 10.00)\n",
        "    elif codigo == 'LAXT012':\n",
        "      quantidadeItens = int(input(\" Digite a quantidade de produtos: \"))\n",
        "      valorLanche = valorLanche + (quantidadeItens * 16.00)\n",
        "    elif codigo == 'SUMA021':\n",
        "      quantidadeItens = int(input(\" Digite a quantidade de produtos: \"))\n",
        "      valorSuco = valorSuco + (quantidadeItens * 8.00)\n",
        "    elif codigo == 'SUGO023':\n",
        "      quantidadeItens = int(input(\" Digite a quantidade de produtos: \"))\n",
        "      valorSuco = valorSuco + (quantidadeItens * 7.00)\n",
        "    elif codigo == 'VIBA031':\n",
        "      quantidadeItens = int(input(\" Digite a quantidade de produtos: \"))\n",
        "      valorVit = valorVit + (quantidadeItens * 6.00)\n",
        "    elif codigo == 'VIAB032':\n",
        "      quantidadeItens = int(input(\" Digite a quantidade de produtos: \"))\n",
        "      valorVit = valorVit + (quantidadeItens * 10.00)\n",
        "    elif codigo == 'FRBF041':\n",
        "      quantidadeItens = int(input(\" Digite a quantidade de produtos: \"))\n",
        "      valorFrit = valorFrit + (quantidadeItens * 15.00)\n",
        "    elif codigo == 'FRMF042':\n",
        "      quantidadeItens = int(input(\" Digite a quantidade de produtos: \"))\n",
        "      valorFrit = valorFrit + (quantidadeItens * 17.00)\n",
        "    else:\n",
        "      print(\" Opção inválida!\")\n",
        "      print(\"\")\n",
        "    valorFinal = valorPratoExpre + valorLanche + valorSuco + valorVit + valorFrit\n",
        "\n",
        "    print(\" Valor parcial: {}\\n\".format(valorFinal))\n",
        "    condicao = input(\" Acrescentar item, S ou N: \").upper()\n",
        "  \n",
        "  print(\" Seu pedido foi realizado com sucesso!\")\n",
        "  print(\" Valor final: {}\".format(valorFinal))\n",
        "else:\n",
        "  print(\" O Lanche Deus É Fiel agradece pela sua visita e até a próxima!\")"
      ],
      "metadata": {
        "id": "hFiq2LxisUsY",
        "colab": {
          "base_uri": "https://localhost:8080/"
        },
        "outputId": "f4c08ad7-2f8f-4729-ccd5-a2f003b93423"
      },
      "execution_count": null,
      "outputs": [
        {
          "output_type": "stream",
          "name": "stdout",
          "text": [
            " --------------------- Lanche Deus É Fiel --------------------- \n",
            " COD                Produto                 Preço\n",
            " -------------------------------------------------------------- \n",
            " Pratos Expressos: \n",
            " PECS001            Carne de Sol            R$ 20.00\n",
            " PELA002            Lasanha                 R$ 20.00\n",
            "\n",
            " Lanches: \n",
            " LAXS011            X-Salada                R$ 10.00\n",
            " LAXT012            X-Tudo                  R$ 16.00\n",
            "\n",
            " Sucos: \n",
            " SUMA021            Maracujá/500ml          R$ 8.00\n",
            " SUGO023            Goiaba/500ml            R$ 7.00\n",
            "\n",
            " Vitaminadas: \n",
            " VIBA031            Banana                  R$  6.00\n",
            " VIAB032            Abacate                 R$ 10.00\n",
            "\n",
            " Fritas: \n",
            " FRBF041            Batata Frita G          R$ 15.00\n",
            " FRMF042            Macaxeira Frita         R$ 17.00\n",
            " -------------------------------------------------------------- \n",
            " Faça seu pedido, S ou N: S\n",
            " -------------------------------------------------------------- \n",
            " Digite o código do produto: SUMA021\n",
            " Digite a quantidade de produtos: 5\n",
            " Valor parcial: 40.0\n",
            "\n",
            " Acrescentar item, S ou N: N\n",
            " Seu pedido foi realizado com sucesso!\n",
            " Valor final: 40.0\n"
          ]
        }
      ]
    }
  ]
}